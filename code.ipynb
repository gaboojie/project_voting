{
  "nbformat": 4,
  "nbformat_minor": 0,
  "metadata": {
    "colab": {
      "provenance": [],
      "authorship_tag": "ABX9TyNpglrPU7hOA3R4GvX4ior0",
      "include_colab_link": true
    },
    "kernelspec": {
      "name": "python3",
      "display_name": "Python 3"
    },
    "language_info": {
      "name": "python"
    }
  },
  "cells": [
    {
      "cell_type": "markdown",
      "metadata": {
        "id": "view-in-github",
        "colab_type": "text"
      },
      "source": [
        "<a href=\"https://colab.research.google.com/github/gaboojie/project_voting/blob/main/code.ipynb\" target=\"_parent\"><img src=\"https://colab.research.google.com/assets/colab-badge.svg\" alt=\"Open In Colab\"/></a>"
      ]
    },
    {
      "cell_type": "markdown",
      "source": [
        "Plan:\n",
        "1. Load CSV va_voting data - Gabe\n",
        "2. Load data into proper format for ML model - Gabe\n",
        "3. Split into training and testing data - Gabe\n",
        "4. Choose correct ML model - Naad\n",
        "5. Perform ML model - Naad\n",
        "6. Calculate metrics to assess ML model - Ben\n",
        "7. Create a state map based on the model - Ben"
      ],
      "metadata": {
        "id": "5w-WxBbfCGbV"
      }
    },
    {
      "cell_type": "code",
      "execution_count": 4,
      "metadata": {
        "id": "q9c7g8xvCE6a"
      },
      "outputs": [],
      "source": [
        "# Load CSV va_voting data\n",
        "\n",
        "import pandas as pd\n",
        "import numpy as np\n",
        "\n",
        "df = pd.read_csv(\"https://raw.githubusercontent.com/gaboojie/project_voting/main/data/voting_VA.csv\")"
      ]
    }
  ]
}